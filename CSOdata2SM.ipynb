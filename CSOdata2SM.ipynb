{
 "cells": [
  {
   "cell_type": "code",
   "execution_count": 4,
   "metadata": {},
   "outputs": [],
   "source": [
    "import numpy as np\n",
    "import matplotlib.pyplot as plt\n",
    "import geopandas as gpd\n",
    "import json\n",
    "from shapely import geometry as sgeom"
   ]
  },
  {
   "cell_type": "code",
   "execution_count": 32,
   "metadata": {},
   "outputs": [],
   "source": [
    "########## USER ###########\n",
    "# Select modeling domain ('WY', 'UT', 'OR', 'WA')\n",
    "domain = 'WA'"
   ]
  },
  {
   "cell_type": "code",
   "execution_count": 33,
   "metadata": {},
   "outputs": [],
   "source": [
    "#CSO data path\n",
    "CSOpath = 'cso-data.geojson'\n",
    "\n",
    "#path to CSO domain json\n",
    "with open('../CSO_domains.json') as f:\n",
    "    domains = json.load(f)\n",
    "\n",
    "#start date    \n",
    "st = domains[domain]['st']\n",
    "#end date\n",
    "ed = domains[domain]['ed']\n",
    "\n",
    "#Snotel bounding box\n",
    "Bbox = domains[domain]['Bbox']\n",
    "\n",
    "# CSO projection\n",
    "stn_proj = domains[domain]['stn_proj']"
   ]
  },
  {
   "cell_type": "code",
   "execution_count": 34,
   "metadata": {},
   "outputs": [],
   "source": [
    "gdf = gpd.read_file(CSOpath)"
   ]
  },
  {
   "cell_type": "code",
   "execution_count": 35,
   "metadata": {},
   "outputs": [],
   "source": [
    "# Convert the bounding box dictionary to a shapely Polygon geometry using sgeom.box\n",
    "box_sgeom = sgeom.box(Bbox['lonmin'], Bbox['latmin'], Bbox['lonmax'], Bbox['latmax'])\n",
    "box_gdf = gpd.GeoDataFrame(geometry=[box_sgeom], crs=stn_proj)"
   ]
  },
  {
   "cell_type": "code",
   "execution_count": 38,
   "metadata": {},
   "outputs": [
    {
     "data": {
      "text/html": [
       "<div>\n",
       "<style scoped>\n",
       "    .dataframe tbody tr th:only-of-type {\n",
       "        vertical-align: middle;\n",
       "    }\n",
       "\n",
       "    .dataframe tbody tr th {\n",
       "        vertical-align: top;\n",
       "    }\n",
       "\n",
       "    .dataframe thead th {\n",
       "        text-align: right;\n",
       "    }\n",
       "</style>\n",
       "<table border=\"1\" class=\"dataframe\">\n",
       "  <thead>\n",
       "    <tr style=\"text-align: right;\">\n",
       "      <th></th>\n",
       "      <th>id</th>\n",
       "      <th>author</th>\n",
       "      <th>depth</th>\n",
       "      <th>source</th>\n",
       "      <th>timestamp</th>\n",
       "      <th>elevation</th>\n",
       "      <th>_ms</th>\n",
       "      <th>geometry</th>\n",
       "    </tr>\n",
       "  </thead>\n",
       "  <tbody>\n",
       "    <tr>\n",
       "      <th>0</th>\n",
       "      <td>0FIbt71c</td>\n",
       "      <td>Bob Sutherland</td>\n",
       "      <td>61.999998</td>\n",
       "      <td>MountainHub</td>\n",
       "      <td>2020-01-05T20:04:08</td>\n",
       "      <td>980.924622</td>\n",
       "      <td>1578254648880</td>\n",
       "      <td>POINT (-120.51831 48.59405)</td>\n",
       "    </tr>\n",
       "    <tr>\n",
       "      <th>1</th>\n",
       "      <td>0T3SEQNz</td>\n",
       "      <td>Yasmine Hentati</td>\n",
       "      <td>27.000000</td>\n",
       "      <td>MountainHub</td>\n",
       "      <td>2020-01-14T19:57:54</td>\n",
       "      <td>1051.207520</td>\n",
       "      <td>1579031874034</td>\n",
       "      <td>POINT (-120.15264 48.30681)</td>\n",
       "    </tr>\n",
       "    <tr>\n",
       "      <th>2</th>\n",
       "      <td>1OaGvegg</td>\n",
       "      <td>Bob Sutherland</td>\n",
       "      <td>60.959999</td>\n",
       "      <td>MountainHub</td>\n",
       "      <td>2019-01-05T20:44:26</td>\n",
       "      <td>1155.734619</td>\n",
       "      <td>1546721066939</td>\n",
       "      <td>POINT (-120.32428 48.58304)</td>\n",
       "    </tr>\n",
       "    <tr>\n",
       "      <th>3</th>\n",
       "      <td>1xmy9hHt</td>\n",
       "      <td>Bob Sutherland</td>\n",
       "      <td>109.999996</td>\n",
       "      <td>MountainHub</td>\n",
       "      <td>2020-01-30T19:48:48</td>\n",
       "      <td>900.381226</td>\n",
       "      <td>1580413728183</td>\n",
       "      <td>POINT (-120.56573 48.64941)</td>\n",
       "    </tr>\n",
       "    <tr>\n",
       "      <th>4</th>\n",
       "      <td>20OQ9cvy</td>\n",
       "      <td>David Hill</td>\n",
       "      <td>35.000000</td>\n",
       "      <td>MountainHub</td>\n",
       "      <td>2020-01-03T16:58:12</td>\n",
       "      <td>1234.039551</td>\n",
       "      <td>1578070692193</td>\n",
       "      <td>POINT (-120.29480 48.56598)</td>\n",
       "    </tr>\n",
       "  </tbody>\n",
       "</table>\n",
       "</div>"
      ],
      "text/plain": [
       "         id           author       depth       source            timestamp  \\\n",
       "0  0FIbt71c   Bob Sutherland   61.999998  MountainHub  2020-01-05T20:04:08   \n",
       "1  0T3SEQNz  Yasmine Hentati   27.000000  MountainHub  2020-01-14T19:57:54   \n",
       "2  1OaGvegg   Bob Sutherland   60.959999  MountainHub  2019-01-05T20:44:26   \n",
       "3  1xmy9hHt   Bob Sutherland  109.999996  MountainHub  2020-01-30T19:48:48   \n",
       "4  20OQ9cvy       David Hill   35.000000  MountainHub  2020-01-03T16:58:12   \n",
       "\n",
       "     elevation            _ms                     geometry  \n",
       "0   980.924622  1578254648880  POINT (-120.51831 48.59405)  \n",
       "1  1051.207520  1579031874034  POINT (-120.15264 48.30681)  \n",
       "2  1155.734619  1546721066939  POINT (-120.32428 48.58304)  \n",
       "3   900.381226  1580413728183  POINT (-120.56573 48.64941)  \n",
       "4  1234.039551  1578070692193  POINT (-120.29480 48.56598)  "
      ]
     },
     "execution_count": 38,
     "metadata": {},
     "output_type": "execute_result"
    }
   ],
   "source": [
    "CSO_gdf = gpd.sjoin(gdf, box_gdf, how=\"inner\")\n",
    "CSO_gdf.drop(columns='index_right', inplace=True)\n",
    "CSO_gdf.reset_index(drop=True, inplace=True)\n",
    "CSO_gdf.head()"
   ]
  },
  {
   "cell_type": "code",
   "execution_count": 37,
   "metadata": {},
   "outputs": [
    {
     "data": {
      "text/plain": [
       "<matplotlib.axes._subplots.AxesSubplot at 0x7f8aa071b070>"
      ]
     },
     "execution_count": 37,
     "metadata": {},
     "output_type": "execute_result"
    },
    {
     "data": {
      "image/png": "[encoded data removed]",
      "text/plain": [
       "<Figure size 432x288 with 1 Axes>"
      ]
     },
     "metadata": {
      "needs_background": "light"
     },
     "output_type": "display_data"
    }
   ],
   "source": [
    "CSO_gdf.plot()"
   ]
  },
  {
   "cell_type": "code",
   "execution_count": null,
   "metadata": {},
   "outputs": [],
   "source": []
  }
 ],
 "metadata": {
  "kernelspec": {
   "display_name": "Python 3",
   "language": "python",
   "name": "python3"
  },
  "language_info": {
   "codemirror_mode": {
    "name": "ipython",
    "version": 3
   },
   "file_extension": ".py",
   "mimetype": "text/x-python",
   "name": "python",
   "nbconvert_exporter": "python",
   "pygments_lexer": "ipython3",
   "version": "3.8.1"
  }
 },
 "nbformat": 4,
 "nbformat_minor": 4
}
